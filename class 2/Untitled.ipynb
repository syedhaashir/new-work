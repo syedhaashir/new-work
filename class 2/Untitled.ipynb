{
 "cells": [
  {
   "cell_type": "markdown",
   "id": "57f6d2e0",
   "metadata": {},
   "source": [
    "# Python class one\n",
    "\n",
    "\n",
    "\n",
    "\n",
    "\n",
    "\n",
    "\n",
    "\n",
    "\n",
    "\n",
    "\n",
    "\n",
    "\n",
    "\n",
    "\n",
    "\n",
    "\n",
    "\n",
    "\n",
    "\n",
    "\n",
    "\n",
    "\n",
    "\n",
    "\n",
    "\n",
    "\n",
    "\n",
    "\n",
    "\n",
    "\n",
    "\n",
    "\n",
    "\n",
    "\n",
    "\n",
    "\n",
    "\n",
    "\n",
    "\n",
    "\n",
    "\n",
    "\n",
    "\n",
    "\n",
    "\n",
    "\n",
    "\n",
    "\n",
    "\n",
    "\n",
    "\n",
    "\n",
    "\n",
    "\n",
    "\n",
    "\n",
    "\n",
    "\n",
    "\n",
    "\n",
    "\n",
    "\n",
    "\n",
    "\n",
    "\n",
    "\n",
    "\n",
    "\n",
    "\n",
    "\n",
    "\n",
    "\n",
    "\n"
   ]
  },
  {
   "cell_type": "code",
   "execution_count": 5,
   "id": "706ac633",
   "metadata": {},
   "outputs": [
    {
     "name": "stdout",
     "output_type": "stream",
     "text": [
      "hello world 11 12 3.5 True\n"
     ]
    }
   ],
   "source": [
    "print(\"hello world\", 11, 12, 3.5, True,sep=\" \")"
   ]
  },
  {
   "cell_type": "raw",
   "id": "d27b92a6",
   "metadata": {},
   "source": [
    "print is python built-in funation\n",
    "\n",
    "\n",
    "\n",
    "\n",
    "\n",
    "\n"
   ]
  },
  {
   "cell_type": "code",
   "execution_count": 10,
   "id": "da66a430",
   "metadata": {},
   "outputs": [
    {
     "name": "stdout",
     "output_type": "stream",
     "text": [
      "Hello\tworld\n"
     ]
    }
   ],
   "source": [
    "print(\"Hello\" ,end=\"\\t\")\n",
    "print(\"world\")"
   ]
  },
  {
   "cell_type": "code",
   "execution_count": 13,
   "id": "369f0863",
   "metadata": {},
   "outputs": [
    {
     "name": "stdout",
     "output_type": "stream",
     "text": [
      "23.7\n"
     ]
    }
   ],
   "source": [
    "age = 23.7\n",
    "\n",
    "print(age)\n",
    "\n",
    "# age is verable\n",
    "# 23.7 is a float value\n",
    "# we can say 23.7 is assigned to age\n",
    "# = is a assignment operator"
   ]
  },
  {
   "cell_type": "code",
   "execution_count": 29,
   "id": "ad43027b",
   "metadata": {},
   "outputs": [],
   "source": [
    "name = \"juanid\"\n"
   ]
  },
  {
   "cell_type": "code",
   "execution_count": 16,
   "id": "a8d67173",
   "metadata": {},
   "outputs": [
    {
     "data": {
      "text/plain": [
       "23.7"
      ]
     },
     "execution_count": 16,
     "metadata": {},
     "output_type": "execute_result"
    }
   ],
   "source": [
    "age"
   ]
  },
  {
   "cell_type": "code",
   "execution_count": 17,
   "id": "32856b5b",
   "metadata": {},
   "outputs": [
    {
     "data": {
      "text/plain": [
       "1495039563856"
      ]
     },
     "execution_count": 17,
     "metadata": {},
     "output_type": "execute_result"
    }
   ],
   "source": [
    "id(age)"
   ]
  },
  {
   "cell_type": "code",
   "execution_count": 23,
   "id": "92c602fe",
   "metadata": {},
   "outputs": [
    {
     "data": {
      "text/plain": [
       "1495039409008"
      ]
     },
     "execution_count": 23,
     "metadata": {},
     "output_type": "execute_result"
    }
   ],
   "source": [
    "id(name)"
   ]
  },
  {
   "cell_type": "code",
   "execution_count": 24,
   "id": "379a1451",
   "metadata": {},
   "outputs": [
    {
     "data": {
      "text/plain": [
       "float"
      ]
     },
     "execution_count": 24,
     "metadata": {},
     "output_type": "execute_result"
    }
   ],
   "source": [
    "type(age)"
   ]
  },
  {
   "cell_type": "code",
   "execution_count": 25,
   "id": "88a77f72",
   "metadata": {},
   "outputs": [
    {
     "data": {
      "text/plain": [
       "str"
      ]
     },
     "execution_count": 25,
     "metadata": {},
     "output_type": "execute_result"
    }
   ],
   "source": [
    "type(name)"
   ]
  },
  {
   "cell_type": "code",
   "execution_count": 32,
   "id": "8f45409d",
   "metadata": {},
   "outputs": [
    {
     "name": "stdout",
     "output_type": "stream",
     "text": [
      "junaid\n"
     ]
    }
   ],
   "source": [
    "name = \"junaid\"\n",
    "print(name)"
   ]
  },
  {
   "cell_type": "code",
   "execution_count": 34,
   "id": "7e2a362d",
   "metadata": {},
   "outputs": [
    {
     "data": {
      "text/plain": [
       "6"
      ]
     },
     "execution_count": 34,
     "metadata": {},
     "output_type": "execute_result"
    }
   ],
   "source": [
    "len(name)"
   ]
  },
  {
   "cell_type": "code",
   "execution_count": 35,
   "id": "b0bc7953",
   "metadata": {},
   "outputs": [
    {
     "data": {
      "text/plain": [
       "99"
      ]
     },
     "execution_count": 35,
     "metadata": {},
     "output_type": "execute_result"
    }
   ],
   "source": [
    "marks = 50\n",
    "marks + 49"
   ]
  },
  {
   "cell_type": "code",
   "execution_count": 36,
   "id": "923b2d0f",
   "metadata": {},
   "outputs": [
    {
     "data": {
      "text/plain": [
       "73.7"
      ]
     },
     "execution_count": 36,
     "metadata": {},
     "output_type": "execute_result"
    }
   ],
   "source": [
    "marks + age"
   ]
  },
  {
   "cell_type": "code",
   "execution_count": 47,
   "id": "fdcd16c9",
   "metadata": {},
   "outputs": [],
   "source": [
    "age = age + 1\n",
    "\n"
   ]
  },
  {
   "cell_type": "code",
   "execution_count": 48,
   "id": "568a865c",
   "metadata": {},
   "outputs": [
    {
     "data": {
      "text/plain": [
       "32.7"
      ]
     },
     "execution_count": 48,
     "metadata": {},
     "output_type": "execute_result"
    }
   ],
   "source": [
    "age"
   ]
  },
  {
   "cell_type": "code",
   "execution_count": 45,
   "id": "6ebade61",
   "metadata": {},
   "outputs": [],
   "source": [
    "age +=1"
   ]
  },
  {
   "cell_type": "code",
   "execution_count": 46,
   "id": "afcd46c4",
   "metadata": {},
   "outputs": [
    {
     "data": {
      "text/plain": [
       "31.7"
      ]
     },
     "execution_count": 46,
     "metadata": {},
     "output_type": "execute_result"
    }
   ],
   "source": [
    "age"
   ]
  },
  {
   "cell_type": "code",
   "execution_count": 50,
   "id": "289c94f4",
   "metadata": {},
   "outputs": [
    {
     "data": {
      "text/plain": [
       "1"
      ]
     },
     "execution_count": 50,
     "metadata": {},
     "output_type": "execute_result"
    }
   ],
   "source": [
    "10/10"
   ]
  },
  {
   "cell_type": "code",
   "execution_count": 51,
   "id": "96ad45ed",
   "metadata": {},
   "outputs": [
    {
     "data": {
      "text/plain": [
       "1"
      ]
     },
     "execution_count": 51,
     "metadata": {},
     "output_type": "execute_result"
    }
   ],
   "source": [
    "10//10"
   ]
  },
  {
   "cell_type": "code",
   "execution_count": 54,
   "id": "11db584c",
   "metadata": {},
   "outputs": [],
   "source": [
    "import math"
   ]
  },
  {
   "cell_type": "code",
   "execution_count": 55,
   "id": "10cd6eb1",
   "metadata": {},
   "outputs": [
    {
     "data": {
      "text/plain": [
       "23"
      ]
     },
     "execution_count": 55,
     "metadata": {},
     "output_type": "execute_result"
    }
   ],
   "source": [
    "math.floor(23.7)"
   ]
  },
  {
   "cell_type": "code",
   "execution_count": 56,
   "id": "483b4f01",
   "metadata": {},
   "outputs": [
    {
     "data": {
      "text/plain": [
       "24"
      ]
     },
     "execution_count": 56,
     "metadata": {},
     "output_type": "execute_result"
    }
   ],
   "source": [
    "math.ceil(23.7)"
   ]
  },
  {
   "cell_type": "markdown",
   "id": "609a365a",
   "metadata": {},
   "source": [
    "#  Variable names Legal and Illegal"
   ]
  },
  {
   "cell_type": "code",
   "execution_count": 61,
   "id": "6a642c69",
   "metadata": {},
   "outputs": [
    {
     "name": "stdout",
     "output_type": "stream",
     "text": [
      "enter your name please Junaid\n",
      "Junaid\n"
     ]
    }
   ],
   "source": [
    "name = input(\"enter your name please \")\n",
    "print(name)\n"
   ]
  },
  {
   "cell_type": "code",
   "execution_count": 63,
   "id": "d5077f49",
   "metadata": {},
   "outputs": [
    {
     "name": "stdout",
     "output_type": "stream",
     "text": [
      "enter your name please Junaid\n",
      "enter your age please 22\n",
      "Junaid\n",
      "22\n",
      "my name is Junaid and my age is 22\n"
     ]
    }
   ],
   "source": [
    "name = input(\"enter your name please \")\n",
    "age = input(\"enter your age please \")\n",
    "print(name)\n",
    "print(age)\n",
    "print(\"my name is {0} and my age is {1}\".format(name,age))"
   ]
  },
  {
   "cell_type": "code",
   "execution_count": 64,
   "id": "5c931ec9",
   "metadata": {},
   "outputs": [],
   "source": [
    "first_name = \"Juanid\"\n",
    "last_name = \"Khalid\""
   ]
  },
  {
   "cell_type": "code",
   "execution_count": 65,
   "id": "7669fecb",
   "metadata": {},
   "outputs": [
    {
     "data": {
      "text/plain": [
       "'Juanid Khalid'"
      ]
     },
     "execution_count": 65,
     "metadata": {},
     "output_type": "execute_result"
    }
   ],
   "source": [
    "first_name + \" \" + last_name"
   ]
  },
  {
   "cell_type": "markdown",
   "id": "ad682964",
   "metadata": {},
   "source": [
    "# Type Casting"
   ]
  },
  {
   "cell_type": "code",
   "execution_count": 68,
   "id": "2390f417",
   "metadata": {},
   "outputs": [],
   "source": [
    "number_of_apples = '100'\n",
    "number_of_apples = int(number_of_apples)"
   ]
  },
  {
   "cell_type": "code",
   "execution_count": 70,
   "id": "1cf6646e",
   "metadata": {},
   "outputs": [
    {
     "name": "stdout",
     "output_type": "stream",
     "text": [
      "100\n"
     ]
    }
   ],
   "source": [
    "print(number_of_apples)"
   ]
  },
  {
   "cell_type": "code",
   "execution_count": 71,
   "id": "709bddf2",
   "metadata": {},
   "outputs": [],
   "source": [
    "number_of_apples +=1"
   ]
  },
  {
   "cell_type": "code",
   "execution_count": 72,
   "id": "3d09fceb",
   "metadata": {},
   "outputs": [
    {
     "name": "stdout",
     "output_type": "stream",
     "text": [
      "101\n"
     ]
    }
   ],
   "source": [
    "print(number_of_apples)"
   ]
  },
  {
   "cell_type": "code",
   "execution_count": null,
   "id": "9a1fd5ff",
   "metadata": {},
   "outputs": [],
   "source": []
  }
 ],
 "metadata": {
  "kernelspec": {
   "display_name": "Python 3 (ipykernel)",
   "language": "python",
   "name": "python3"
  },
  "language_info": {
   "codemirror_mode": {
    "name": "ipython",
    "version": 3
   },
   "file_extension": ".py",
   "mimetype": "text/x-python",
   "name": "python",
   "nbconvert_exporter": "python",
   "pygments_lexer": "ipython3",
   "version": "3.9.7"
  }
 },
 "nbformat": 4,
 "nbformat_minor": 5
}
